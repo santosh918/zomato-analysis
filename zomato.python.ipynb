{
 "cells": [
  {
   "cell_type": "code",
   "execution_count": 1,
   "id": "6d192d78-a341-4aab-bf40-efcb51e1c896",
   "metadata": {},
   "outputs": [],
   "source": [
    "#import libraries\n",
    "import pandas as pd"
   ]
  },
  {
   "cell_type": "code",
   "execution_count": 2,
   "id": "15a6fc7d-09da-48ae-934a-cb0b2de0a8fe",
   "metadata": {},
   "outputs": [
    {
     "name": "stdout",
     "output_type": "stream",
     "text": [
      "      RestaurantID                 RestaurantName  CountryCode       City  \\\n",
      "0          7402935                           Skye           94    Jakarta   \n",
      "1          7410290       Satoo - Hotel Shangri-La           94    Jakarta   \n",
      "2          7420899                     Sushi Masa           94    Jakarta   \n",
      "3          7421967                 3 Wise Monkeys           94    Jakarta   \n",
      "4          7422489    Avec Moi Restaurant and Bar           94    Jakarta   \n",
      "...            ...                            ...          ...        ...   \n",
      "6253      17330155                       Deorio's          216   Columbus   \n",
      "6254      17582499                    Royal Hotel          216  Pocatello   \n",
      "6255      17284302  El Vaquero Mexican Restaurant          216     Albany   \n",
      "6256      17342548  Happy Joe's Pizza & Ice Cream          216    Dubuque   \n",
      "6257      17284105                  Cookie Shoppe          216     Albany   \n",
      "\n",
      "                           Locality   Longitude   Latitude  \\\n",
      "0     Grand Indonesia Mall, Thamrin  106.821999  -6.196778   \n",
      "1        Hotel Shangri-La, Sudirman  106.818961  -6.203292   \n",
      "2                       Penjaringan  106.800144  -6.101298   \n",
      "3                          Senopati  106.813400  -6.235241   \n",
      "4                           Thamrin  106.821023  -6.196270   \n",
      "...                             ...         ...        ...   \n",
      "6253                       Columbus  -84.942700  32.481000   \n",
      "6254               Lava Hot Springs -112.012700  42.619200   \n",
      "6255                         Albany  -84.219400  31.615800   \n",
      "6256                        Dubuque  -90.726400  42.495500   \n",
      "6257                         Albany  -84.154000  31.577200   \n",
      "\n",
      "     Country.Countryname                    Cuisines                Currency  \\\n",
      "0              Indonasia        Italian, Continental  Indonesian Rupiah(IDR)   \n",
      "1              Indonasia  Asian, Indonesian, Western  Indonesian Rupiah(IDR)   \n",
      "2              Indonasia             Sushi, Japanese  Indonesian Rupiah(IDR)   \n",
      "3              Indonasia                    Japanese  Indonesian Rupiah(IDR)   \n",
      "4              Indonasia             French, Western  Indonesian Rupiah(IDR)   \n",
      "...                  ...                         ...                     ...   \n",
      "6253       United States              Italian, Pizza               Dollar($)   \n",
      "6254       United States             Pizza, Bar Food               Dollar($)   \n",
      "6255       United States                     Mexican               Dollar($)   \n",
      "6256       United States  Desserts, Pizza, Ice Cream               Dollar($)   \n",
      "6257       United States                         NaN               Dollar($)   \n",
      "\n",
      "      ... Day Quarter Months Name Week of Month  Financial Quarters  USD Rate  \\\n",
      "0     ...   2      Q2         May             1                 FQ1  0.000067   \n",
      "1     ...  23      Q4         Oct             4                 FQ3  0.000067   \n",
      "2     ...  19      Q3         Aug             4                 FQ2  0.000067   \n",
      "3     ...  17      Q4         Nov             4                 FQ3  0.000067   \n",
      "4     ...  14      Q4         Nov             3                 FQ3  0.000067   \n",
      "...   ...  ..     ...         ...           ...                 ...       ...   \n",
      "6253  ...  26      Q1         Mar             5                 FQ4  1.000000   \n",
      "6254  ...  15      Q1         Mar             3                 FQ4  1.000000   \n",
      "6255  ...  23      Q1         Jan             4                 FQ4  1.000000   \n",
      "6256  ...   4      Q1         Jan             1                 FQ4  1.000000   \n",
      "6257  ...  20      Q4         Oct             4                 FQ3  1.000000   \n",
      "\n",
      "      Indian rupees          RestaurantName - Copy Day of Week  USD_Dollars  \n",
      "0               496                           Skye           5           54  \n",
      "1               497       Satoo - Hotel Shangri-La           4           54  \n",
      "2               498                     Sushi Masa           1           34  \n",
      "3               498                 3 Wise Monkeys           1           30  \n",
      "4               498    Avec Moi Restaurant and Bar           2           23  \n",
      "...             ...                            ...         ...          ...  \n",
      "6253       17330155                       Deorio's           1            0  \n",
      "6254       17582499                    Royal Hotel           3            0  \n",
      "6255       17284302  El Vaquero Mexican Restaurant           6            0  \n",
      "6256       17342548  Happy Joe's Pizza & Ice Cream           3            0  \n",
      "6257       17284105                  Cookie Shoppe           4            0  \n",
      "\n",
      "[6258 rows x 30 columns]\n"
     ]
    }
   ],
   "source": [
    "# Loading .csv file of Zomato data using pandas\n",
    "df_data = pd.read_csv(r\"C:\\Users\\Samir\\OneDrive\\Desktop\\pyzomato.csv\", encoding ='unicode_escape')\n",
    "print(df_data)"
   ]
  },
  {
   "cell_type": "code",
   "execution_count": 3,
   "id": "842de1b8-2b0f-49e2-88cd-fa4b21eaed89",
   "metadata": {},
   "outputs": [
    {
     "name": "stdout",
     "output_type": "stream",
     "text": [
      "<class 'pandas.core.frame.DataFrame'>\n",
      "RangeIndex: 6258 entries, 0 to 6257\n",
      "Data columns (total 30 columns):\n",
      " #   Column                 Non-Null Count  Dtype  \n",
      "---  ------                 --------------  -----  \n",
      " 0   RestaurantID           6258 non-null   int64  \n",
      " 1   RestaurantName         6258 non-null   object \n",
      " 2   CountryCode            6258 non-null   int64  \n",
      " 3   City                   6258 non-null   object \n",
      " 4   Locality               6258 non-null   object \n",
      " 5   Longitude              6258 non-null   float64\n",
      " 6   Latitude               6258 non-null   float64\n",
      " 7   Country.Countryname    6258 non-null   object \n",
      " 8   Cuisines               6249 non-null   object \n",
      " 9   Currency               6258 non-null   object \n",
      " 10  Has_Table_booking      6258 non-null   object \n",
      " 11  Has_Online_delivery    6258 non-null   object \n",
      " 12  Is_delivering_now      6258 non-null   object \n",
      " 13  Switch_to_order_menu   6258 non-null   object \n",
      " 14  Price_range            6258 non-null   int64  \n",
      " 15  Votes                  6258 non-null   int64  \n",
      " 16  Average_Cost_for_two   6258 non-null   int64  \n",
      " 17  Rating                 6258 non-null   float64\n",
      " 18  Datekey_Opening        6258 non-null   object \n",
      " 19  Year                   6258 non-null   int64  \n",
      " 20  Day                    6258 non-null   int64  \n",
      " 21  Quarter                6258 non-null   object \n",
      " 22  Months Name            6258 non-null   object \n",
      " 23  Week of Month          6258 non-null   int64  \n",
      " 24  Financial Quarters     6258 non-null   object \n",
      " 25  USD Rate               6258 non-null   float64\n",
      " 26  Indian rupees          6258 non-null   int64  \n",
      " 27  RestaurantName - Copy  6258 non-null   object \n",
      " 28  Day of Week            6258 non-null   int64  \n",
      " 29  USD_Dollars            6258 non-null   int64  \n",
      "dtypes: float64(4), int64(11), object(15)\n",
      "memory usage: 1.4+ MB\n"
     ]
    }
   ],
   "source": [
    "# Data Cleaning (Zomato data)\n",
    "#check the datatype\n",
    "df_data.info()"
   ]
  },
  {
   "cell_type": "code",
   "execution_count": 4,
   "id": "dbc4c235-73e9-4319-a864-0e93075c63d4",
   "metadata": {},
   "outputs": [
    {
     "name": "stdout",
     "output_type": "stream",
     "text": [
      "RestaurantID             0\n",
      "RestaurantName           0\n",
      "CountryCode              0\n",
      "City                     0\n",
      "Locality                 0\n",
      "Longitude                0\n",
      "Latitude                 0\n",
      "Country.Countryname      0\n",
      "Cuisines                 9\n",
      "Currency                 0\n",
      "Has_Table_booking        0\n",
      "Has_Online_delivery      0\n",
      "Is_delivering_now        0\n",
      "Switch_to_order_menu     0\n",
      "Price_range              0\n",
      "Votes                    0\n",
      "Average_Cost_for_two     0\n",
      "Rating                   0\n",
      "Datekey_Opening          0\n",
      "Year                     0\n",
      "Day                      0\n",
      "Quarter                  0\n",
      "Months Name              0\n",
      "Week of Month            0\n",
      "Financial Quarters       0\n",
      "USD Rate                 0\n",
      "Indian rupees            0\n",
      "RestaurantName - Copy    0\n",
      "Day of Week              0\n",
      "USD_Dollars              0\n",
      "dtype: int64\n"
     ]
    }
   ],
   "source": [
    "# Check the Null Values\n",
    "print(df_data.isnull().sum())"
   ]
  },
  {
   "cell_type": "code",
   "execution_count": 5,
   "id": "42ade12a-58ea-46c8-acf0-9bcdb4c5e701",
   "metadata": {},
   "outputs": [
    {
     "data": {
      "text/plain": [
       "0             Italian, Continental\n",
       "1       Asian, Indonesian, Western\n",
       "2                  Sushi, Japanese\n",
       "3                         Japanese\n",
       "4                  French, Western\n",
       "                   ...            \n",
       "6253                Italian, Pizza\n",
       "6254               Pizza, Bar Food\n",
       "6255                       Mexican\n",
       "6256    Desserts, Pizza, Ice Cream\n",
       "6257                           NaN\n",
       "Name: Cuisines, Length: 6258, dtype: object"
      ]
     },
     "execution_count": 5,
     "metadata": {},
     "output_type": "execute_result"
    }
   ],
   "source": [
    "df_data['Cuisines']"
   ]
  },
  {
   "cell_type": "code",
   "execution_count": 6,
   "id": "43b3b8fb-cd77-42d1-b5df-f279b7f9cab0",
   "metadata": {},
   "outputs": [],
   "source": [
    "# Example DataFrame\n",
    "data = {'Cuisines': ['Italian, Chinese, Indian', 'Mexican, Thai', 'Indian, American']}\n",
    "df = pd.DataFrame(data)\n",
    "\n"
   ]
  },
  {
   "cell_type": "code",
   "execution_count": 7,
   "id": "19953df2-2244-4905-b1b6-68a5905d1ec7",
   "metadata": {},
   "outputs": [],
   "source": [
    "# Split the Cuisines column into multiple columns\n",
    "df_split = df['Cuisines'].str.split(',', expand=True)"
   ]
  },
  {
   "cell_type": "code",
   "execution_count": 8,
   "id": "bc53b38e-46fe-4dd0-b5b7-25b5a004a74b",
   "metadata": {},
   "outputs": [
    {
     "name": "stdout",
     "output_type": "stream",
     "text": [
      "         0          1        2\n",
      "0  Italian    Chinese   Indian\n",
      "1  Mexican       Thai     None\n",
      "2   Indian   American     None\n"
     ]
    }
   ],
   "source": [
    "print(df_split)"
   ]
  },
  {
   "cell_type": "code",
   "execution_count": 9,
   "id": "1c2cdf86-35fe-4a1d-ad49-81220e1b5f74",
   "metadata": {},
   "outputs": [
    {
     "name": "stdout",
     "output_type": "stream",
     "text": [
      "<class 'pandas.core.frame.DataFrame'>\n",
      "RangeIndex: 6258 entries, 0 to 6257\n",
      "Data columns (total 30 columns):\n",
      " #   Column                 Non-Null Count  Dtype  \n",
      "---  ------                 --------------  -----  \n",
      " 0   RestaurantID           6258 non-null   int64  \n",
      " 1   RestaurantName         6258 non-null   object \n",
      " 2   CountryCode            6258 non-null   int64  \n",
      " 3   City                   6258 non-null   object \n",
      " 4   Locality               6258 non-null   object \n",
      " 5   Longitude              6258 non-null   float64\n",
      " 6   Latitude               6258 non-null   float64\n",
      " 7   Country.Countryname    6258 non-null   object \n",
      " 8   Cuisines               6249 non-null   object \n",
      " 9   Currency               6258 non-null   object \n",
      " 10  Has_Table_booking      6258 non-null   object \n",
      " 11  Has_Online_delivery    6258 non-null   object \n",
      " 12  Is_delivering_now      6258 non-null   object \n",
      " 13  Switch_to_order_menu   6258 non-null   object \n",
      " 14  Price_range            6258 non-null   int64  \n",
      " 15  Votes                  6258 non-null   int64  \n",
      " 16  Average_Cost_for_two   6258 non-null   int64  \n",
      " 17  Rating                 6258 non-null   float64\n",
      " 18  Datekey_Opening        6258 non-null   object \n",
      " 19  Year                   6258 non-null   int64  \n",
      " 20  Day                    6258 non-null   int64  \n",
      " 21  Quarter                6258 non-null   object \n",
      " 22  Months Name            6258 non-null   object \n",
      " 23  Week of Month          6258 non-null   int64  \n",
      " 24  Financial Quarters     6258 non-null   object \n",
      " 25  USD Rate               6258 non-null   float64\n",
      " 26  Indian rupees          6258 non-null   int64  \n",
      " 27  RestaurantName - Copy  6258 non-null   object \n",
      " 28  Day of Week            6258 non-null   int64  \n",
      " 29  USD_Dollars            6258 non-null   int64  \n",
      "dtypes: float64(4), int64(11), object(15)\n",
      "memory usage: 1.4+ MB\n"
     ]
    }
   ],
   "source": [
    "#Checking to eliminate unnecessary column \n",
    "df_data.info()"
   ]
  },
  {
   "cell_type": "code",
   "execution_count": 10,
   "id": "ba774126-caa1-42a8-9a42-f97b7c4391bc",
   "metadata": {},
   "outputs": [],
   "source": [
    "#Drop the unnecessary columns\n",
    "df_data.drop(['Locality','Longitude','Latitude','Switch_to_order_menu','RestaurantName - Copy'],axis=1,inplace=True)"
   ]
  },
  {
   "cell_type": "code",
   "execution_count": 11,
   "id": "e29898e8-7648-48b0-ab8f-01bf6b0e2e86",
   "metadata": {},
   "outputs": [
    {
     "name": "stdout",
     "output_type": "stream",
     "text": [
      "<class 'pandas.core.frame.DataFrame'>\n",
      "RangeIndex: 6258 entries, 0 to 6257\n",
      "Data columns (total 25 columns):\n",
      " #   Column                Non-Null Count  Dtype  \n",
      "---  ------                --------------  -----  \n",
      " 0   RestaurantID          6258 non-null   int64  \n",
      " 1   RestaurantName        6258 non-null   object \n",
      " 2   CountryCode           6258 non-null   int64  \n",
      " 3   City                  6258 non-null   object \n",
      " 4   Country.Countryname   6258 non-null   object \n",
      " 5   Cuisines              6249 non-null   object \n",
      " 6   Currency              6258 non-null   object \n",
      " 7   Has_Table_booking     6258 non-null   object \n",
      " 8   Has_Online_delivery   6258 non-null   object \n",
      " 9   Is_delivering_now     6258 non-null   object \n",
      " 10  Price_range           6258 non-null   int64  \n",
      " 11  Votes                 6258 non-null   int64  \n",
      " 12  Average_Cost_for_two  6258 non-null   int64  \n",
      " 13  Rating                6258 non-null   float64\n",
      " 14  Datekey_Opening       6258 non-null   object \n",
      " 15  Year                  6258 non-null   int64  \n",
      " 16  Day                   6258 non-null   int64  \n",
      " 17  Quarter               6258 non-null   object \n",
      " 18  Months Name           6258 non-null   object \n",
      " 19  Week of Month         6258 non-null   int64  \n",
      " 20  Financial Quarters    6258 non-null   object \n",
      " 21  USD Rate              6258 non-null   float64\n",
      " 22  Indian rupees         6258 non-null   int64  \n",
      " 23  Day of Week           6258 non-null   int64  \n",
      " 24  USD_Dollars           6258 non-null   int64  \n",
      "dtypes: float64(2), int64(11), object(12)\n",
      "memory usage: 1.2+ MB\n"
     ]
    }
   ],
   "source": [
    "df_data.info()"
   ]
  },
  {
   "cell_type": "code",
   "execution_count": 12,
   "id": "3683bd7c-c150-4402-968c-4c7ab4ccb53f",
   "metadata": {},
   "outputs": [
    {
     "data": {
      "text/plain": [
       "0       02-05-2014\n",
       "1       23-10-2014\n",
       "2       19-08-2013\n",
       "3       17-11-2014\n",
       "4       14-11-2017\n",
       "           ...    \n",
       "6253    26-03-2012\n",
       "6254    15-03-2017\n",
       "6255    23-01-2016\n",
       "6256    04-01-2017\n",
       "6257    20-10-2011\n",
       "Name: Datekey_Opening, Length: 6258, dtype: object"
      ]
     },
     "execution_count": 12,
     "metadata": {},
     "output_type": "execute_result"
    }
   ],
   "source": [
    "#to change the datatype 1st replace the _ with -\n",
    "df_data['Datekey_Opening']=df_data['Datekey_Opening'].str.replace('_','-')\n",
    "df_data['Datekey_Opening']"
   ]
  }
 ],
 "metadata": {
  "kernelspec": {
   "display_name": "Python 3 (ipykernel)",
   "language": "python",
   "name": "python3"
  },
  "language_info": {
   "codemirror_mode": {
    "name": "ipython",
    "version": 3
   },
   "file_extension": ".py",
   "mimetype": "text/x-python",
   "name": "python",
   "nbconvert_exporter": "python",
   "pygments_lexer": "ipython3",
   "version": "3.11.7"
  }
 },
 "nbformat": 4,
 "nbformat_minor": 5
}
